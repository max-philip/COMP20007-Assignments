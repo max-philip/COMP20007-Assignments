{
 "cells": [
  {
   "cell_type": "code",
   "execution_count": 1,
   "metadata": {
    "collapsed": true
   },
   "outputs": [],
   "source": [
    "% matplotlib inline\n",
    "import numpy as np\n",
    "import pandas as pd\n",
    "import matplotlib.pyplot as plt"
   ]
  },
  {
   "cell_type": "code",
   "execution_count": 2,
   "metadata": {
    "collapsed": true
   },
   "outputs": [],
   "source": [
    "stage4 = pd.read_csv(\"stage4.csv\", encoding = \"ISO-8859-1\")"
   ]
  },
  {
   "cell_type": "code",
   "execution_count": 3,
   "metadata": {
    "collapsed": false
   },
   "outputs": [
    {
     "data": {
      "text/html": [
       "<div>\n",
       "<table border=\"1\" class=\"dataframe\">\n",
       "  <thead>\n",
       "    <tr style=\"text-align: right;\">\n",
       "      <th></th>\n",
       "      <th>Inserts</th>\n",
       "      <th>Collisions</th>\n",
       "      <th>Total Load</th>\n",
       "      <th>Load Factor (%)</th>\n",
       "      <th>Length of Avg Probe Sequence</th>\n",
       "      <th>Number of Slots</th>\n",
       "    </tr>\n",
       "  </thead>\n",
       "  <tbody>\n",
       "    <tr>\n",
       "      <th>0</th>\n",
       "      <td>200</td>\n",
       "      <td>88</td>\n",
       "      <td>200</td>\n",
       "      <td>78.125</td>\n",
       "      <td>4.863636</td>\n",
       "      <td>256</td>\n",
       "    </tr>\n",
       "    <tr>\n",
       "      <th>1</th>\n",
       "      <td>400</td>\n",
       "      <td>159</td>\n",
       "      <td>399</td>\n",
       "      <td>79.930</td>\n",
       "      <td>4.094340</td>\n",
       "      <td>512</td>\n",
       "    </tr>\n",
       "    <tr>\n",
       "      <th>2</th>\n",
       "      <td>600</td>\n",
       "      <td>195</td>\n",
       "      <td>596</td>\n",
       "      <td>58.203</td>\n",
       "      <td>2.984615</td>\n",
       "      <td>1024</td>\n",
       "    </tr>\n",
       "    <tr>\n",
       "      <th>3</th>\n",
       "      <td>800</td>\n",
       "      <td>291</td>\n",
       "      <td>788</td>\n",
       "      <td>76.953</td>\n",
       "      <td>3.786942</td>\n",
       "      <td>1024</td>\n",
       "    </tr>\n",
       "    <tr>\n",
       "      <th>4</th>\n",
       "      <td>1000</td>\n",
       "      <td>427</td>\n",
       "      <td>982</td>\n",
       "      <td>95.898</td>\n",
       "      <td>18.482436</td>\n",
       "      <td>1024</td>\n",
       "    </tr>\n",
       "    <tr>\n",
       "      <th>5</th>\n",
       "      <td>1200</td>\n",
       "      <td>334</td>\n",
       "      <td>1176</td>\n",
       "      <td>57.422</td>\n",
       "      <td>2.464072</td>\n",
       "      <td>2048</td>\n",
       "    </tr>\n",
       "    <tr>\n",
       "      <th>6</th>\n",
       "      <td>1400</td>\n",
       "      <td>476</td>\n",
       "      <td>1369</td>\n",
       "      <td>66.846</td>\n",
       "      <td>3.232101</td>\n",
       "      <td>2048</td>\n",
       "    </tr>\n",
       "    <tr>\n",
       "      <th>7</th>\n",
       "      <td>1600</td>\n",
       "      <td>610</td>\n",
       "      <td>1561</td>\n",
       "      <td>76.221</td>\n",
       "      <td>4.631148</td>\n",
       "      <td>2048</td>\n",
       "    </tr>\n",
       "    <tr>\n",
       "      <th>8</th>\n",
       "      <td>1800</td>\n",
       "      <td>737</td>\n",
       "      <td>1753</td>\n",
       "      <td>85.596</td>\n",
       "      <td>8.531886</td>\n",
       "      <td>2048</td>\n",
       "    </tr>\n",
       "    <tr>\n",
       "      <th>9</th>\n",
       "      <td>2000</td>\n",
       "      <td>857</td>\n",
       "      <td>1934</td>\n",
       "      <td>94.434</td>\n",
       "      <td>10.653442</td>\n",
       "      <td>2048</td>\n",
       "    </tr>\n",
       "    <tr>\n",
       "      <th>10</th>\n",
       "      <td>2200</td>\n",
       "      <td>495</td>\n",
       "      <td>2124</td>\n",
       "      <td>51.855</td>\n",
       "      <td>2.024242</td>\n",
       "      <td>4096</td>\n",
       "    </tr>\n",
       "    <tr>\n",
       "      <th>11</th>\n",
       "      <td>2400</td>\n",
       "      <td>585</td>\n",
       "      <td>2292</td>\n",
       "      <td>55.957</td>\n",
       "      <td>2.194872</td>\n",
       "      <td>4096</td>\n",
       "    </tr>\n",
       "    <tr>\n",
       "      <th>12</th>\n",
       "      <td>2600</td>\n",
       "      <td>719</td>\n",
       "      <td>2499</td>\n",
       "      <td>61.011</td>\n",
       "      <td>2.499305</td>\n",
       "      <td>4096</td>\n",
       "    </tr>\n",
       "    <tr>\n",
       "      <th>13</th>\n",
       "      <td>2800</td>\n",
       "      <td>816</td>\n",
       "      <td>2691</td>\n",
       "      <td>65.698</td>\n",
       "      <td>2.726716</td>\n",
       "      <td>4096</td>\n",
       "    </tr>\n",
       "    <tr>\n",
       "      <th>14</th>\n",
       "      <td>3000</td>\n",
       "      <td>977</td>\n",
       "      <td>2861</td>\n",
       "      <td>69.849</td>\n",
       "      <td>2.968270</td>\n",
       "      <td>4096</td>\n",
       "    </tr>\n",
       "    <tr>\n",
       "      <th>15</th>\n",
       "      <td>3200</td>\n",
       "      <td>1085</td>\n",
       "      <td>3068</td>\n",
       "      <td>74.902</td>\n",
       "      <td>3.608295</td>\n",
       "      <td>4096</td>\n",
       "    </tr>\n",
       "    <tr>\n",
       "      <th>16</th>\n",
       "      <td>3400</td>\n",
       "      <td>1196</td>\n",
       "      <td>3211</td>\n",
       "      <td>78.394</td>\n",
       "      <td>4.075251</td>\n",
       "      <td>4096</td>\n",
       "    </tr>\n",
       "    <tr>\n",
       "      <th>17</th>\n",
       "      <td>3600</td>\n",
       "      <td>1358</td>\n",
       "      <td>3415</td>\n",
       "      <td>83.374</td>\n",
       "      <td>5.494109</td>\n",
       "      <td>4096</td>\n",
       "    </tr>\n",
       "    <tr>\n",
       "      <th>18</th>\n",
       "      <td>3800</td>\n",
       "      <td>1508</td>\n",
       "      <td>3586</td>\n",
       "      <td>87.549</td>\n",
       "      <td>7.004642</td>\n",
       "      <td>4096</td>\n",
       "    </tr>\n",
       "    <tr>\n",
       "      <th>19</th>\n",
       "      <td>4000</td>\n",
       "      <td>1640</td>\n",
       "      <td>3753</td>\n",
       "      <td>91.626</td>\n",
       "      <td>11.200610</td>\n",
       "      <td>4096</td>\n",
       "    </tr>\n",
       "  </tbody>\n",
       "</table>\n",
       "</div>"
      ],
      "text/plain": [
       "    Inserts  Collisions  Total Load  Load Factor (%)  \\\n",
       "0       200          88         200           78.125   \n",
       "1       400         159         399           79.930   \n",
       "2       600         195         596           58.203   \n",
       "3       800         291         788           76.953   \n",
       "4      1000         427         982           95.898   \n",
       "5      1200         334        1176           57.422   \n",
       "6      1400         476        1369           66.846   \n",
       "7      1600         610        1561           76.221   \n",
       "8      1800         737        1753           85.596   \n",
       "9      2000         857        1934           94.434   \n",
       "10     2200         495        2124           51.855   \n",
       "11     2400         585        2292           55.957   \n",
       "12     2600         719        2499           61.011   \n",
       "13     2800         816        2691           65.698   \n",
       "14     3000         977        2861           69.849   \n",
       "15     3200        1085        3068           74.902   \n",
       "16     3400        1196        3211           78.394   \n",
       "17     3600        1358        3415           83.374   \n",
       "18     3800        1508        3586           87.549   \n",
       "19     4000        1640        3753           91.626   \n",
       "\n",
       "    Length of Avg Probe Sequence  Number of Slots  \n",
       "0                       4.863636              256  \n",
       "1                       4.094340              512  \n",
       "2                       2.984615             1024  \n",
       "3                       3.786942             1024  \n",
       "4                      18.482436             1024  \n",
       "5                       2.464072             2048  \n",
       "6                       3.232101             2048  \n",
       "7                       4.631148             2048  \n",
       "8                       8.531886             2048  \n",
       "9                      10.653442             2048  \n",
       "10                      2.024242             4096  \n",
       "11                      2.194872             4096  \n",
       "12                      2.499305             4096  \n",
       "13                      2.726716             4096  \n",
       "14                      2.968270             4096  \n",
       "15                      3.608295             4096  \n",
       "16                      4.075251             4096  \n",
       "17                      5.494109             4096  \n",
       "18                      7.004642             4096  \n",
       "19                     11.200610             4096  "
      ]
     },
     "execution_count": 3,
     "metadata": {},
     "output_type": "execute_result"
    }
   ],
   "source": [
    "stage4"
   ]
  },
  {
   "cell_type": "code",
   "execution_count": 18,
   "metadata": {
    "collapsed": false
   },
   "outputs": [
    {
     "name": "stdout",
     "output_type": "stream",
     "text": [
      "best fit line:\n",
      "y = -36.27 + 0.36x\n"
     ]
    },
    {
     "data": {
      "text/html": [
       "<div>\n",
       "<table border=\"1\" class=\"dataframe\">\n",
       "  <thead>\n",
       "    <tr style=\"text-align: right;\">\n",
       "      <th></th>\n",
       "      <th>Inserts</th>\n",
       "      <th>Collisions</th>\n",
       "    </tr>\n",
       "  </thead>\n",
       "  <tbody>\n",
       "    <tr>\n",
       "      <th>Inserts</th>\n",
       "      <td>1.000000</td>\n",
       "      <td>0.952905</td>\n",
       "    </tr>\n",
       "    <tr>\n",
       "      <th>Collisions</th>\n",
       "      <td>0.952905</td>\n",
       "      <td>1.000000</td>\n",
       "    </tr>\n",
       "  </tbody>\n",
       "</table>\n",
       "</div>"
      ],
      "text/plain": [
       "             Inserts  Collisions\n",
       "Inserts     1.000000    0.952905\n",
       "Collisions  0.952905    1.000000"
      ]
     },
     "execution_count": 18,
     "metadata": {},
     "output_type": "execute_result"
    },
    {
     "data": {
      "image/png": "[encoded data removed]",
      "text/plain": [
       "<matplotlib.figure.Figure at 0x1fd5a1dea58>"
      ]
     },
     "metadata": {},
     "output_type": "display_data"
    }
   ],
   "source": [
    "# solve for a and b\n",
    "def best_fit(X, Y):\n",
    "\n",
    "    xbar = sum(X)/len(X)\n",
    "    ybar = sum(Y)/len(Y)\n",
    "    n = len(X) # or len(Y)\n",
    "\n",
    "    numer = sum([xi*yi for xi,yi in zip(X, Y)]) - n * xbar * ybar\n",
    "    denum = sum([xi**2 for xi in X]) - n * xbar**2\n",
    "\n",
    "    b = numer / denum\n",
    "    a = ybar - b * xbar\n",
    "\n",
    "    print('best fit line:\\ny = {:.2f} + {:.2f}x'.format(a, b))\n",
    "\n",
    "    return a, b\n",
    "\n",
    "# sample points \n",
    "X = stage4[\"Inserts\"]\n",
    "Y = stage4[\"Collisions\"]\n",
    "\n",
    "# solution\n",
    "a, b = best_fit(X, Y)\n",
    "#best fit line:\n",
    "#y = 0.80 + 0.92x\n",
    "\n",
    "# plot points and fit line\n",
    "import matplotlib.pyplot as plt\n",
    "plt.scatter(X, Y)\n",
    "yfit = [a + b * xi for xi in X]\n",
    "plt.plot(X, yfit)\n",
    "plt.grid(True)\n",
    "plt.xlabel(\"Inserts\")\n",
    "plt.ylabel(\"Collisions\")\n",
    "plt.title(\"Inserts against collisions for each test\")\n",
    "\n",
    "stage4[[\"Inserts\", \"Collisions\"]].corr()"
   ]
  },
  {
   "cell_type": "code",
   "execution_count": 19,
   "metadata": {
    "collapsed": false
   },
   "outputs": [
    {
     "name": "stdout",
     "output_type": "stream",
     "text": [
      "best fit line:\n",
      "y = -305.96 + 13.88x\n"
     ]
    },
    {
     "data": {
      "text/html": [
       "<div>\n",
       "<table border=\"1\" class=\"dataframe\">\n",
       "  <thead>\n",
       "    <tr style=\"text-align: right;\">\n",
       "      <th></th>\n",
       "      <th>Load Factor (%)</th>\n",
       "      <th>Collisions</th>\n",
       "    </tr>\n",
       "  </thead>\n",
       "  <tbody>\n",
       "    <tr>\n",
       "      <th>Load Factor (%)</th>\n",
       "      <td>1.000000</td>\n",
       "      <td>0.407358</td>\n",
       "    </tr>\n",
       "    <tr>\n",
       "      <th>Collisions</th>\n",
       "      <td>0.407358</td>\n",
       "      <td>1.000000</td>\n",
       "    </tr>\n",
       "  </tbody>\n",
       "</table>\n",
       "</div>"
      ],
      "text/plain": [
       "                 Load Factor (%)  Collisions\n",
       "Load Factor (%)         1.000000    0.407358\n",
       "Collisions              0.407358    1.000000"
      ]
     },
     "execution_count": 19,
     "metadata": {},
     "output_type": "execute_result"
    },
    {
     "data": {
      "image/png": "[encoded data removed]",
      "text/plain": [
       "<matplotlib.figure.Figure at 0x1fd58fa2978>"
      ]
     },
     "metadata": {},
     "output_type": "display_data"
    }
   ],
   "source": [
    "\n",
    "# sample points \n",
    "X = stage4[\"Load Factor (%)\"]\n",
    "Y = stage4[\"Collisions\"]\n",
    "\n",
    "# solution\n",
    "a, b = best_fit(X, Y)\n",
    "#best fit line:\n",
    "#y = 0.80 + 0.92x\n",
    "\n",
    "# plot points and fit line\n",
    "import matplotlib.pyplot as plt\n",
    "plt.scatter(X, Y)\n",
    "yfit = [a + b * xi for xi in X]\n",
    "plt.plot(X, yfit)\n",
    "plt.grid(True)\n",
    "plt.xlabel(\"Load Factor (%)\")\n",
    "plt.ylabel(\"Collisions\")\n",
    "plt.title(\"Load Factor (%) against collisions for each test\")\n",
    "\n",
    "stage4[[\"Load Factor (%)\", \"Collisions\"]].corr()"
   ]
  },
  {
   "cell_type": "code",
   "execution_count": 20,
   "metadata": {
    "collapsed": false
   },
   "outputs": [
    {
     "name": "stdout",
     "output_type": "stream",
     "text": [
      "best fit line:\n",
      "y = -13.27 + 0.25x\n"
     ]
    },
    {
     "data": {
      "text/html": [
       "<div>\n",
       "<table border=\"1\" class=\"dataframe\">\n",
       "  <thead>\n",
       "    <tr style=\"text-align: right;\">\n",
       "      <th></th>\n",
       "      <th>Load Factor (%)</th>\n",
       "      <th>Length of Avg Probe Sequence</th>\n",
       "    </tr>\n",
       "  </thead>\n",
       "  <tbody>\n",
       "    <tr>\n",
       "      <th>Load Factor (%)</th>\n",
       "      <td>1.0000</td>\n",
       "      <td>0.8123</td>\n",
       "    </tr>\n",
       "    <tr>\n",
       "      <th>Length of Avg Probe Sequence</th>\n",
       "      <td>0.8123</td>\n",
       "      <td>1.0000</td>\n",
       "    </tr>\n",
       "  </tbody>\n",
       "</table>\n",
       "</div>"
      ],
      "text/plain": [
       "                              Load Factor (%)  Length of Avg Probe Sequence\n",
       "Load Factor (%)                        1.0000                        0.8123\n",
       "Length of Avg Probe Sequence           0.8123                        1.0000"
      ]
     },
     "execution_count": 20,
     "metadata": {},
     "output_type": "execute_result"
    },
    {
     "data": {
      "image/png": "[encoded data removed]",
      "text/plain": [
       "<matplotlib.figure.Figure at 0x1fd5a2ac470>"
      ]
     },
     "metadata": {},
     "output_type": "display_data"
    }
   ],
   "source": [
    "# sample points \n",
    "X = stage4[\"Load Factor (%)\"]\n",
    "Y = stage4[\"Length of Avg Probe Sequence\"]\n",
    "\n",
    "# solution\n",
    "a, b = best_fit(X, Y)\n",
    "#best fit line:\n",
    "#y = 0.80 + 0.92x\n",
    "\n",
    "# plot points and fit line\n",
    "import matplotlib.pyplot as plt\n",
    "plt.scatter(X, Y)\n",
    "yfit = [a + b * xi for xi in X]\n",
    "plt.plot(X, yfit)\n",
    "plt.grid(True)\n",
    "plt.xlabel(\"Load Factor (%)\")\n",
    "plt.ylabel(\"Length of Average Probe Sequence\")\n",
    "plt.title(\"Load Factor (%) against length of average probe sequence for each test\")\n",
    "\n",
    "\n",
    "stage4[[\"Load Factor (%)\", \"Length of Avg Probe Sequence\"]].corr()"
   ]
  },
  {
   "cell_type": "code",
   "execution_count": 22,
   "metadata": {
    "collapsed": false
   },
   "outputs": [],
   "source": [
    "stage5 = pd.read_csv(\"stage5.csv\", encoding = \"ISO-8859-1\")"
   ]
  },
  {
   "cell_type": "code",
   "execution_count": 23,
   "metadata": {
    "collapsed": false
   },
   "outputs": [
    {
     "data": {
      "text/html": [
       "<div>\n",
       "<table border=\"1\" class=\"dataframe\">\n",
       "  <thead>\n",
       "    <tr style=\"text-align: right;\">\n",
       "      <th></th>\n",
       "      <th>Bucketsize</th>\n",
       "      <th>CPU Time</th>\n",
       "    </tr>\n",
       "  </thead>\n",
       "  <tbody>\n",
       "    <tr>\n",
       "      <th>0</th>\n",
       "      <td>4</td>\n",
       "      <td>1.477</td>\n",
       "    </tr>\n",
       "    <tr>\n",
       "      <th>1</th>\n",
       "      <td>104</td>\n",
       "      <td>0.214</td>\n",
       "    </tr>\n",
       "    <tr>\n",
       "      <th>2</th>\n",
       "      <td>204</td>\n",
       "      <td>0.186</td>\n",
       "    </tr>\n",
       "    <tr>\n",
       "      <th>3</th>\n",
       "      <td>304</td>\n",
       "      <td>0.159</td>\n",
       "    </tr>\n",
       "    <tr>\n",
       "      <th>4</th>\n",
       "      <td>404</td>\n",
       "      <td>0.153</td>\n",
       "    </tr>\n",
       "    <tr>\n",
       "      <th>5</th>\n",
       "      <td>504</td>\n",
       "      <td>0.148</td>\n",
       "    </tr>\n",
       "    <tr>\n",
       "      <th>6</th>\n",
       "      <td>604</td>\n",
       "      <td>0.178</td>\n",
       "    </tr>\n",
       "    <tr>\n",
       "      <th>7</th>\n",
       "      <td>704</td>\n",
       "      <td>0.132</td>\n",
       "    </tr>\n",
       "    <tr>\n",
       "      <th>8</th>\n",
       "      <td>804</td>\n",
       "      <td>0.133</td>\n",
       "    </tr>\n",
       "    <tr>\n",
       "      <th>9</th>\n",
       "      <td>904</td>\n",
       "      <td>0.151</td>\n",
       "    </tr>\n",
       "    <tr>\n",
       "      <th>10</th>\n",
       "      <td>1004</td>\n",
       "      <td>0.135</td>\n",
       "    </tr>\n",
       "  </tbody>\n",
       "</table>\n",
       "</div>"
      ],
      "text/plain": [
       "    Bucketsize  CPU Time\n",
       "0            4     1.477\n",
       "1          104     0.214\n",
       "2          204     0.186\n",
       "3          304     0.159\n",
       "4          404     0.153\n",
       "5          504     0.148\n",
       "6          604     0.178\n",
       "7          704     0.132\n",
       "8          804     0.133\n",
       "9          904     0.151\n",
       "10        1004     0.135"
      ]
     },
     "execution_count": 23,
     "metadata": {},
     "output_type": "execute_result"
    }
   ],
   "source": [
    "stage5"
   ]
  },
  {
   "cell_type": "code",
   "execution_count": 24,
   "metadata": {
    "collapsed": false
   },
   "outputs": [
    {
     "name": "stdout",
     "output_type": "stream",
     "text": [
      "best fit line:\n",
      "y = 0.61 + -0.00x\n"
     ]
    },
    {
     "data": {
      "text/html": [
       "<div>\n",
       "<table border=\"1\" class=\"dataframe\">\n",
       "  <thead>\n",
       "    <tr style=\"text-align: right;\">\n",
       "      <th></th>\n",
       "      <th>Bucketsize</th>\n",
       "      <th>CPU Time</th>\n",
       "    </tr>\n",
       "  </thead>\n",
       "  <tbody>\n",
       "    <tr>\n",
       "      <th>Bucketsize</th>\n",
       "      <td>1.000000</td>\n",
       "      <td>-0.541366</td>\n",
       "    </tr>\n",
       "    <tr>\n",
       "      <th>CPU Time</th>\n",
       "      <td>-0.541366</td>\n",
       "      <td>1.000000</td>\n",
       "    </tr>\n",
       "  </tbody>\n",
       "</table>\n",
       "</div>"
      ],
      "text/plain": [
       "            Bucketsize  CPU Time\n",
       "Bucketsize    1.000000 -0.541366\n",
       "CPU Time     -0.541366  1.000000"
      ]
     },
     "execution_count": 24,
     "metadata": {},
     "output_type": "execute_result"
    },
    {
     "data": {
      "image/png": "[encoded data removed]",
      "text/plain": [
       "<matplotlib.figure.Figure at 0x1fd5a2287b8>"
      ]
     },
     "metadata": {},
     "output_type": "display_data"
    }
   ],
   "source": [
    "# sample points \n",
    "X = stage5[\"Bucketsize\"]\n",
    "Y = stage5[\"CPU Time\"]\n",
    "\n",
    "# solution\n",
    "a, b = best_fit(X, Y)\n",
    "#best fit line:\n",
    "#y = 0.80 + 0.92x\n",
    "\n",
    "# plot points and fit line\n",
    "import matplotlib.pyplot as plt\n",
    "plt.scatter(X, Y)\n",
    "yfit = [a + b * xi for xi in X]\n",
    "plt.plot(X, yfit)\n",
    "plt.grid(True)\n",
    "plt.xlabel(\"Bucketsize\")\n",
    "plt.ylabel(\"CPU Time (seconds)\")\n",
    "plt.title(\"Bucketsize against CPU Time (seconds) for each test\")\n",
    "\n",
    "stage5[[\"Bucketsize\", \"CPU Time\"]].corr()"
   ]
  },
  {
   "cell_type": "code",
   "execution_count": 26,
   "metadata": {
    "collapsed": true
   },
   "outputs": [],
   "source": [
    "import seaborn as sns"
   ]
  },
  {
   "cell_type": "code",
   "execution_count": 33,
   "metadata": {
    "collapsed": false
   },
   "outputs": [
    {
     "data": {
      "text/plain": [
       "<seaborn.axisgrid.FacetGrid at 0x1fd5ae93fd0>"
      ]
     },
     "execution_count": 33,
     "metadata": {},
     "output_type": "execute_result"
    },
    {
     "data": {
      "image/png": "[encoded data removed]",
      "text/plain": [
       "<matplotlib.figure.Figure at 0x1fd5ae93d30>"
      ]
     },
     "metadata": {},
     "output_type": "display_data"
    }
   ],
   "source": [
    "sns.lmplot(x=\"Bucketsize\", y=\"CPU Time\", data=stage5 )"
   ]
  },
  {
   "cell_type": "code",
   "execution_count": null,
   "metadata": {
    "collapsed": true
   },
   "outputs": [],
   "source": []
  }
 ],
 "metadata": {
  "kernelspec": {
   "display_name": "Python 3",
   "language": "python",
   "name": "python3"
  },
  "language_info": {
   "codemirror_mode": {
    "name": "ipython",
    "version": 3
   },
   "file_extension": ".py",
   "mimetype": "text/x-python",
   "name": "python",
   "nbconvert_exporter": "python",
   "pygments_lexer": "ipython3",
   "version": "3.6.0"
  }
 },
 "nbformat": 4,
 "nbformat_minor": 2
}
